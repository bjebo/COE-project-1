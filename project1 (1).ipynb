{
 "cells": [
  {
   "cell_type": "code",
   "execution_count": 582,
   "id": "44b2791f-aedb-4919-8178-92b0626080d9",
   "metadata": {},
   "outputs": [],
   "source": [
    "import pandas as pd"
   ]
  },
  {
   "cell_type": "code",
   "execution_count": 583,
   "id": "81e629f5-6a6f-4d2d-98d8-b9a0054d1413",
   "metadata": {},
   "outputs": [],
   "source": [
    "df = pd.read_csv('project1.csv')"
   ]
  },
  {
   "cell_type": "code",
   "execution_count": 584,
   "id": "5f0b207a-4847-440d-8a9a-cc4194d0b97d",
   "metadata": {},
   "outputs": [],
   "source": [
    "#Identify shape, size of the raw data (1 point)\n",
    "#shape of data: (386, 10).\n",
    "#size of data: 26K.\n",
    "#-rw-r--r-- 1 root root 26K Feb 18 22:24 project1.csv."
   ]
  },
  {
   "cell_type": "code",
   "execution_count": 585,
   "id": "567658e7-dc1d-4029-8ecd-4dd4e4d7c53f",
   "metadata": {},
   "outputs": [
    {
     "data": {
      "text/plain": [
       "(386, 10)"
      ]
     },
     "execution_count": 585,
     "metadata": {},
     "output_type": "execute_result"
    }
   ],
   "source": [
    "df.shape"
   ]
  },
  {
   "cell_type": "code",
   "execution_count": 586,
   "id": "1e43b608-ef54-4984-b92b-399f970fba16",
   "metadata": {},
   "outputs": [],
   "source": [
    "#Get information about datatypes. Comment if any of the variables need datatype conversion. Check for duplicate rows and treat them. (1 point)\n",
    "#changed most variables to 'category' type, irradiat needs to be bool because it only takes yes and no.\n",
    "#checked for duplicate rows and columns."
   ]
  },
  {
   "cell_type": "code",
   "execution_count": 587,
   "id": "90f8a64c-d355-4d78-b23f-7ed163c6cf3c",
   "metadata": {},
   "outputs": [
    {
     "name": "stdout",
     "output_type": "stream",
     "text": [
      "<class 'pandas.core.frame.DataFrame'>\n",
      "RangeIndex: 386 entries, 0 to 385\n",
      "Data columns (total 10 columns):\n",
      " #   Column       Non-Null Count  Dtype \n",
      "---  ------       --------------  ----- \n",
      " 0   class        386 non-null    object\n",
      " 1   age          386 non-null    object\n",
      " 2   menopause    386 non-null    object\n",
      " 3   tumor-size   385 non-null    object\n",
      " 4   inv-nodes    385 non-null    object\n",
      " 5   node-caps    386 non-null    object\n",
      " 6   deg-malig    386 non-null    int64 \n",
      " 7   breast       386 non-null    object\n",
      " 8   breast-quad  386 non-null    object\n",
      " 9   irradiat     386 non-null    object\n",
      "dtypes: int64(1), object(9)\n",
      "memory usage: 30.3+ KB\n"
     ]
    }
   ],
   "source": [
    "df.info()"
   ]
  },
  {
   "cell_type": "code",
   "execution_count": 588,
   "id": "6b07510d-c2c5-43b1-a6f6-c9b67af0b74c",
   "metadata": {},
   "outputs": [],
   "source": [
    "df['class'] = df['class'].astype(\"category\")\n",
    "df['age'] = df['age'].astype(\"category\")\n",
    "df['menopause'] = df['menopause'].astype(\"category\")\n",
    "df['tumor-size'] = df['tumor-size'].astype(\"category\")\n",
    "df['inv-nodes'] = df['inv-nodes'].astype(\"category\")\n",
    "df['node-caps'] = df['node-caps'].astype(\"category\")\n",
    "df['breast'] = df['breast'].astype(\"category\")\n",
    "df['breast-quad'] = df['breast-quad'].astype(\"category\")\n",
    "df['irradiat'] = df['irradiat'].astype(\"category\")"
   ]
  },
  {
   "cell_type": "code",
   "execution_count": 589,
   "id": "71e65c7b-f482-4e4a-a098-96ddcc6d64d2",
   "metadata": {},
   "outputs": [
    {
     "name": "stdout",
     "output_type": "stream",
     "text": [
      "<class 'pandas.core.frame.DataFrame'>\n",
      "RangeIndex: 386 entries, 0 to 385\n",
      "Data columns (total 10 columns):\n",
      " #   Column       Non-Null Count  Dtype   \n",
      "---  ------       --------------  -----   \n",
      " 0   class        386 non-null    category\n",
      " 1   age          386 non-null    category\n",
      " 2   menopause    386 non-null    category\n",
      " 3   tumor-size   385 non-null    category\n",
      " 4   inv-nodes    385 non-null    category\n",
      " 5   node-caps    386 non-null    category\n",
      " 6   deg-malig    386 non-null    int64   \n",
      " 7   breast       386 non-null    category\n",
      " 8   breast-quad  386 non-null    category\n",
      " 9   irradiat     386 non-null    category\n",
      "dtypes: category(9), int64(1)\n",
      "memory usage: 8.5 KB\n"
     ]
    }
   ],
   "source": [
    "df.info()"
   ]
  },
  {
   "cell_type": "code",
   "execution_count": 590,
   "id": "5b3eff3f-0a02-47c8-80e0-ac7162576c53",
   "metadata": {},
   "outputs": [
    {
     "data": {
      "text/plain": [
       "11"
      ]
     },
     "execution_count": 590,
     "metadata": {},
     "output_type": "execute_result"
    }
   ],
   "source": [
    "df.duplicated().sum()"
   ]
  },
  {
   "cell_type": "code",
   "execution_count": 591,
   "id": "046e83d1-6b96-4785-9ed8-fb8dae4b8383",
   "metadata": {},
   "outputs": [],
   "source": [
    "df.drop_duplicates(inplace=True, ignore_index=True)"
   ]
  },
  {
   "cell_type": "code",
   "execution_count": 592,
   "id": "ff387f3a-db42-474a-8287-d4a6d02fb167",
   "metadata": {},
   "outputs": [
    {
     "data": {
      "text/plain": [
       "0"
      ]
     },
     "execution_count": 592,
     "metadata": {},
     "output_type": "execute_result"
    }
   ],
   "source": [
    "df.duplicated().sum()"
   ]
  },
  {
   "cell_type": "code",
   "execution_count": 593,
   "id": "cfb86d1b-cc86-45f5-b13c-ba14c3ca4a7a",
   "metadata": {},
   "outputs": [],
   "source": [
    "#Identify missing data and/or invalid values and treat them with suitable mean, median, mode or other method (1 point)\n",
    "#missing data groups: inv-nodes & tumor-size.\n",
    "#grouped by 'deg-malig' because it is most related to tumor size and lymph node involvment."
   ]
  },
  {
   "cell_type": "code",
   "execution_count": 594,
   "id": "05f10ae3-db42-43f5-8446-bdfa9dac72d0",
   "metadata": {},
   "outputs": [
    {
     "data": {
      "text/plain": [
       "class          0\n",
       "age            0\n",
       "menopause      0\n",
       "tumor-size     1\n",
       "inv-nodes      1\n",
       "node-caps      0\n",
       "deg-malig      0\n",
       "breast         0\n",
       "breast-quad    0\n",
       "irradiat       0\n",
       "dtype: int64"
      ]
     },
     "execution_count": 594,
     "metadata": {},
     "output_type": "execute_result"
    }
   ],
   "source": [
    "df.isnull().sum()"
   ]
  },
  {
   "cell_type": "code",
   "execution_count": 595,
   "id": "a6859957-af51-4f5a-b5f3-b671f5227335",
   "metadata": {},
   "outputs": [],
   "source": [
    "df['tumor-size'] = df.groupby(['deg-malig'])['tumor-size'].transform(lambda x: x.fillna(x.mode()[0]))\n",
    "df['inv-nodes'] = df.groupby(['deg-malig'])['inv-nodes'].transform(lambda x: x.fillna(x.mode()[0]))"
   ]
  },
  {
   "cell_type": "code",
   "execution_count": 596,
   "id": "533f8e29-8ff9-4921-8375-568003d5b971",
   "metadata": {},
   "outputs": [
    {
     "data": {
      "text/plain": [
       "class          0\n",
       "age            0\n",
       "menopause      0\n",
       "tumor-size     0\n",
       "inv-nodes      0\n",
       "node-caps      0\n",
       "deg-malig      0\n",
       "breast         0\n",
       "breast-quad    0\n",
       "irradiat       0\n",
       "dtype: int64"
      ]
     },
     "execution_count": 596,
     "metadata": {},
     "output_type": "execute_result"
    }
   ],
   "source": [
    "df.isnull().sum()"
   ]
  },
  {
   "cell_type": "code",
   "execution_count": 597,
   "id": "997e13e7-bf50-4bf2-acb7-ee19902d1570",
   "metadata": {},
   "outputs": [],
   "source": [
    "#Visualize the dataset through different univariate analysis and comment on your observations (2)\n",
    "#through my univariate analysis:\n",
    "#age: most of the participants are middle aged.\n",
    "#tumor-size: patients are diagnosed when the tumor is middle ranged size.\n",
    "#inv-nodes: large proportion of patients have low involvment of spread to lymph nodes.\n",
    "#deg-malig: most of the data have higher frequency with a grade 2 tumor.\n",
    "#menopause: breast cancer incidence increases after menopause."
   ]
  },
  {
   "cell_type": "code",
   "execution_count": 598,
   "id": "b16cd5cc-d580-43b0-bdd0-184d3234844d",
   "metadata": {},
   "outputs": [
    {
     "data": {
      "text/html": [
       "<div>\n",
       "<style scoped>\n",
       "    .dataframe tbody tr th:only-of-type {\n",
       "        vertical-align: middle;\n",
       "    }\n",
       "\n",
       "    .dataframe tbody tr th {\n",
       "        vertical-align: top;\n",
       "    }\n",
       "\n",
       "    .dataframe thead th {\n",
       "        text-align: right;\n",
       "    }\n",
       "</style>\n",
       "<table border=\"1\" class=\"dataframe\">\n",
       "  <thead>\n",
       "    <tr style=\"text-align: right;\">\n",
       "      <th></th>\n",
       "      <th>deg-malig</th>\n",
       "    </tr>\n",
       "  </thead>\n",
       "  <tbody>\n",
       "    <tr>\n",
       "      <th>count</th>\n",
       "      <td>375.000000</td>\n",
       "    </tr>\n",
       "    <tr>\n",
       "      <th>mean</th>\n",
       "      <td>2.074667</td>\n",
       "    </tr>\n",
       "    <tr>\n",
       "      <th>std</th>\n",
       "      <td>0.752730</td>\n",
       "    </tr>\n",
       "    <tr>\n",
       "      <th>min</th>\n",
       "      <td>1.000000</td>\n",
       "    </tr>\n",
       "    <tr>\n",
       "      <th>25%</th>\n",
       "      <td>2.000000</td>\n",
       "    </tr>\n",
       "    <tr>\n",
       "      <th>50%</th>\n",
       "      <td>2.000000</td>\n",
       "    </tr>\n",
       "    <tr>\n",
       "      <th>75%</th>\n",
       "      <td>3.000000</td>\n",
       "    </tr>\n",
       "    <tr>\n",
       "      <th>max</th>\n",
       "      <td>3.000000</td>\n",
       "    </tr>\n",
       "  </tbody>\n",
       "</table>\n",
       "</div>"
      ],
      "text/plain": [
       "        deg-malig\n",
       "count  375.000000\n",
       "mean     2.074667\n",
       "std      0.752730\n",
       "min      1.000000\n",
       "25%      2.000000\n",
       "50%      2.000000\n",
       "75%      3.000000\n",
       "max      3.000000"
      ]
     },
     "execution_count": 598,
     "metadata": {},
     "output_type": "execute_result"
    }
   ],
   "source": [
    "df.describe()"
   ]
  },
  {
   "cell_type": "code",
   "execution_count": 599,
   "id": "2faff5d5-0096-42c4-9f1b-077de5016fed",
   "metadata": {},
   "outputs": [],
   "source": [
    "import seaborn as sns\n",
    "import matplotlib.pyplot as plt"
   ]
  },
  {
   "cell_type": "code",
   "execution_count": 600,
   "id": "b786d585-43a6-4e01-bfb7-35c4ff1e69fe",
   "metadata": {},
   "outputs": [
    {
     "data": {
      "text/plain": [
       "<Axes: xlabel='deg-malig', ylabel='Count'>"
      ]
     },
     "execution_count": 600,
     "metadata": {},
     "output_type": "execute_result"
    },
    {
     "data": {
      "image/png": "[encoded data removed]",
      "text/plain": [
       "<Figure size 640x480 with 1 Axes>"
      ]
     },
     "metadata": {},
     "output_type": "display_data"
    }
   ],
   "source": [
    "sns.histplot(data=df['deg-malig'])"
   ]
  },
  {
   "cell_type": "code",
   "execution_count": 601,
   "id": "2615119a-d0d0-41b6-8df4-1e178c12c9ea",
   "metadata": {},
   "outputs": [
    {
     "data": {
      "text/plain": [
       "<function matplotlib.pyplot.show(close=None, block=None)>"
      ]
     },
     "execution_count": 601,
     "metadata": {},
     "output_type": "execute_result"
    },
    {
     "data": {
      "image/png": "[encoded data removed]",
      "text/plain": [
       "<Figure size 640x480 with 1 Axes>"
      ]
     },
     "metadata": {},
     "output_type": "display_data"
    }
   ],
   "source": [
    "sns.countplot(x=df['class'])\n",
    "plt.xticks(rotation=45, ha='right')\n",
    "plt.show"
   ]
  },
  {
   "cell_type": "code",
   "execution_count": 602,
   "id": "fb7784ce-81bf-4990-a6ec-74f66b640181",
   "metadata": {},
   "outputs": [
    {
     "data": {
      "text/plain": [
       "<function matplotlib.pyplot.show(close=None, block=None)>"
      ]
     },
     "execution_count": 602,
     "metadata": {},
     "output_type": "execute_result"
    },
    {
     "data": {
      "image/png": "[encoded data removed]",
      "text/plain": [
       "<Figure size 640x480 with 1 Axes>"
      ]
     },
     "metadata": {},
     "output_type": "display_data"
    }
   ],
   "source": [
    "sns.countplot(x=df['age'])\n",
    "plt.xticks(rotation=45, ha='right')\n",
    "plt.show"
   ]
  },
  {
   "cell_type": "code",
   "execution_count": 603,
   "id": "d85b53f1-cf2e-4e38-9b9c-dc7d4e2baa75",
   "metadata": {},
   "outputs": [
    {
     "data": {
      "text/plain": [
       "<function matplotlib.pyplot.show(close=None, block=None)>"
      ]
     },
     "execution_count": 603,
     "metadata": {},
     "output_type": "execute_result"
    },
    {
     "data": {
      "image/png": "[encoded data removed]",
      "text/plain": [
       "<Figure size 640x480 with 1 Axes>"
      ]
     },
     "metadata": {},
     "output_type": "display_data"
    }
   ],
   "source": [
    "sns.countplot(x=df['menopause'])\n",
    "plt.xticks(rotation=45, ha='right')\n",
    "plt.show"
   ]
  },
  {
   "cell_type": "code",
   "execution_count": 604,
   "id": "6ce56add-67b1-4a1d-8802-9932145f7036",
   "metadata": {},
   "outputs": [
    {
     "data": {
      "text/plain": [
       "<function matplotlib.pyplot.show(close=None, block=None)>"
      ]
     },
     "execution_count": 604,
     "metadata": {},
     "output_type": "execute_result"
    },
    {
     "data": {
      "image/png": "[encoded data removed]",
      "text/plain": [
       "<Figure size 640x480 with 1 Axes>"
      ]
     },
     "metadata": {},
     "output_type": "display_data"
    }
   ],
   "source": [
    "sns.countplot(x=df['tumor-size'])\n",
    "plt.xticks(rotation=45, ha='right')\n",
    "plt.show"
   ]
  },
  {
   "cell_type": "code",
   "execution_count": 605,
   "id": "694efd15-8e17-48d8-a84b-a8eba9b5b8e5",
   "metadata": {},
   "outputs": [
    {
     "data": {
      "text/plain": [
       "<function matplotlib.pyplot.show(close=None, block=None)>"
      ]
     },
     "execution_count": 605,
     "metadata": {},
     "output_type": "execute_result"
    },
    {
     "data": {
      "image/png": "[encoded data removed]",
      "text/plain": [
       "<Figure size 640x480 with 1 Axes>"
      ]
     },
     "metadata": {},
     "output_type": "display_data"
    }
   ],
   "source": [
    "sns.countplot(x=df['inv-nodes'])\n",
    "plt.xticks(rotation=45, ha='right')\n",
    "plt.show"
   ]
  },
  {
   "cell_type": "code",
   "execution_count": 606,
   "id": "571d885b-3393-4475-bd99-23165e824ae3",
   "metadata": {},
   "outputs": [
    {
     "data": {
      "text/plain": [
       "<function matplotlib.pyplot.show(close=None, block=None)>"
      ]
     },
     "execution_count": 606,
     "metadata": {},
     "output_type": "execute_result"
    },
    {
     "data": {
      "image/png": "[encoded data removed]",
      "text/plain": [
       "<Figure size 640x480 with 1 Axes>"
      ]
     },
     "metadata": {},
     "output_type": "display_data"
    }
   ],
   "source": [
    "sns.countplot(x=df['node-caps'])\n",
    "plt.xticks(rotation=45, ha='right')\n",
    "plt.show"
   ]
  },
  {
   "cell_type": "code",
   "execution_count": 607,
   "id": "73749c1c-28c1-4b4a-9abd-bfe90ab7da2c",
   "metadata": {},
   "outputs": [
    {
     "data": {
      "text/plain": [
       "<function matplotlib.pyplot.show(close=None, block=None)>"
      ]
     },
     "execution_count": 607,
     "metadata": {},
     "output_type": "execute_result"
    },
    {
     "data": {
      "image/png": "[encoded data removed]",
      "text/plain": [
       "<Figure size 640x480 with 1 Axes>"
      ]
     },
     "metadata": {},
     "output_type": "display_data"
    }
   ],
   "source": [
    "sns.countplot(x=df['breast'])\n",
    "plt.xticks(rotation=45, ha='right')\n",
    "plt.show"
   ]
  },
  {
   "cell_type": "code",
   "execution_count": 608,
   "id": "df0da712-e825-4001-a1e0-332c4f400616",
   "metadata": {},
   "outputs": [
    {
     "data": {
      "text/plain": [
       "<function matplotlib.pyplot.show(close=None, block=None)>"
      ]
     },
     "execution_count": 608,
     "metadata": {},
     "output_type": "execute_result"
    },
    {
     "data": {
      "image/png": "[encoded data removed]",
      "text/plain": [
       "<Figure size 640x480 with 1 Axes>"
      ]
     },
     "metadata": {},
     "output_type": "display_data"
    }
   ],
   "source": [
    "sns.countplot(x=df['breast-quad'])\n",
    "plt.xticks(rotation=45, ha='right')\n",
    "plt.show"
   ]
  },
  {
   "cell_type": "code",
   "execution_count": 609,
   "id": "f05f0a4f-6c9b-46e9-b8a2-7a1cf2f48f7f",
   "metadata": {},
   "outputs": [
    {
     "data": {
      "text/plain": [
       "<function matplotlib.pyplot.show(close=None, block=None)>"
      ]
     },
     "execution_count": 609,
     "metadata": {},
     "output_type": "execute_result"
    },
    {
     "data": {
      "image/png": "[encoded data removed]",
      "text/plain": [
       "<Figure size 640x480 with 1 Axes>"
      ]
     },
     "metadata": {},
     "output_type": "display_data"
    }
   ],
   "source": [
    "sns.countplot(x=df['irradiat'])\n",
    "plt.xticks(rotation=45, ha='right')\n",
    "plt.show"
   ]
  },
  {
   "cell_type": "code",
   "execution_count": 610,
   "id": "2066169b-cdb5-46ec-a730-2e9dfe7bc1d1",
   "metadata": {},
   "outputs": [],
   "source": [
    "#Perform one-hot encoding on categorical variables (1 point)"
   ]
  },
  {
   "cell_type": "code",
   "execution_count": 611,
   "id": "38052065-f4cf-447a-9f1c-9cbec5e22be8",
   "metadata": {},
   "outputs": [
    {
     "name": "stdout",
     "output_type": "stream",
     "text": [
      "<class 'pandas.core.frame.DataFrame'>\n",
      "RangeIndex: 375 entries, 0 to 374\n",
      "Data columns (total 36 columns):\n",
      " #   Column                   Non-Null Count  Dtype\n",
      "---  ------                   --------------  -----\n",
      " 0   deg-malig                375 non-null    int64\n",
      " 1   class_recurrence-events  375 non-null    bool \n",
      " 2   age_30-39                375 non-null    bool \n",
      " 3   age_40-49                375 non-null    bool \n",
      " 4   age_50-59                375 non-null    bool \n",
      " 5   age_60-69                375 non-null    bool \n",
      " 6   age_70-79                375 non-null    bool \n",
      " 7   menopause_lt40           375 non-null    bool \n",
      " 8   menopause_premeno        375 non-null    bool \n",
      " 9   tumor-size_10-14         375 non-null    bool \n",
      " 10  tumor-size_15-19         375 non-null    bool \n",
      " 11  tumor-size_20-24         375 non-null    bool \n",
      " 12  tumor-size_25-29         375 non-null    bool \n",
      " 13  tumor-size_30-34         375 non-null    bool \n",
      " 14  tumor-size_35-39         375 non-null    bool \n",
      " 15  tumor-size_40-44         375 non-null    bool \n",
      " 16  tumor-size_45-49         375 non-null    bool \n",
      " 17  tumor-size_5-9           375 non-null    bool \n",
      " 18  tumor-size_50-54         375 non-null    bool \n",
      " 19  inv-nodes_12-14          375 non-null    bool \n",
      " 20  inv-nodes_15-17          375 non-null    bool \n",
      " 21  inv-nodes_24-26          375 non-null    bool \n",
      " 22  inv-nodes_3-5            375 non-null    bool \n",
      " 23  inv-nodes_6-8            375 non-null    bool \n",
      " 24  inv-nodes_9-11           375 non-null    bool \n",
      " 25  node-caps_?              375 non-null    bool \n",
      " 26  node-caps_no             375 non-null    bool \n",
      " 27  node-caps_yes            375 non-null    bool \n",
      " 28  breast_right             375 non-null    bool \n",
      " 29  breast-quad_?            375 non-null    bool \n",
      " 30  breast-quad_central      375 non-null    bool \n",
      " 31  breast-quad_left_low     375 non-null    bool \n",
      " 32  breast-quad_left_up      375 non-null    bool \n",
      " 33  breast-quad_right_low    375 non-null    bool \n",
      " 34  breast-quad_right_up     375 non-null    bool \n",
      " 35  irradiat_yes             375 non-null    bool \n",
      "dtypes: bool(35), int64(1)\n",
      "memory usage: 15.9 KB\n"
     ]
    }
   ],
   "source": [
    "df = pd.get_dummies(df, columns=[\"class\"], drop_first=True)\n",
    "df = pd.get_dummies(df, columns=[\"age\"], drop_first=True)\n",
    "df = pd.get_dummies(df, columns=[\"menopause\"], drop_first=True)\n",
    "df = pd.get_dummies(df, columns=[\"tumor-size\"], drop_first=True)\n",
    "df = pd.get_dummies(df, columns=[\"inv-nodes\"], drop_first=True)\n",
    "df = pd.get_dummies(df, columns=[\"node-caps\"], drop_first=True)\n",
    "df = pd.get_dummies(df, columns=[\"breast\"], drop_first=True)\n",
    "df = pd.get_dummies(df, columns=[\"breast-quad\"], drop_first=True)\n",
    "df = pd.get_dummies(df, columns=[\"irradiat\"], drop_first=True)\n",
    "df.info()"
   ]
  },
  {
   "cell_type": "code",
   "execution_count": 612,
   "id": "31ce1e36-02bb-4526-96da-d705cd1f4c08",
   "metadata": {},
   "outputs": [],
   "source": [
    "#Split the data into training and test datasets. Make sure your split is reproducible and that it maintains roughly the proportion of each class of dependent variable. (1 point)"
   ]
  },
  {
   "cell_type": "code",
   "execution_count": 613,
   "id": "401d52ee-17b5-4a85-afb4-57536dffd462",
   "metadata": {},
   "outputs": [],
   "source": [
    "from sklearn.model_selection import train_test_split\n",
    "X = df.drop('class_recurrence-events', axis=1)\n",
    "y = df['class_recurrence-events']\n",
    "X_train, X_test, y_train, y_test = train_test_split(X, y, test_size=0.3, stratify=y, random_state=1)"
   ]
  },
  {
   "cell_type": "code",
   "execution_count": 614,
   "id": "8911f8fd-9adf-4b29-b567-2bb99552eb67",
   "metadata": {},
   "outputs": [
    {
     "data": {
      "text/plain": [
       "(262, 35)"
      ]
     },
     "execution_count": 614,
     "metadata": {},
     "output_type": "execute_result"
    }
   ],
   "source": [
    "X_train.shape"
   ]
  },
  {
   "cell_type": "code",
   "execution_count": 615,
   "id": "f529d842-9bcf-476a-9942-d07b62418f15",
   "metadata": {},
   "outputs": [
    {
     "data": {
      "text/plain": [
       "(113, 35)"
      ]
     },
     "execution_count": 615,
     "metadata": {},
     "output_type": "execute_result"
    }
   ],
   "source": [
    "X_test.shape"
   ]
  },
  {
   "cell_type": "code",
   "execution_count": 616,
   "id": "d1c80921-37be-4316-84d5-a02b04cade71",
   "metadata": {},
   "outputs": [],
   "source": [
    "#Perform classification using (6 points)"
   ]
  },
  {
   "cell_type": "code",
   "execution_count": 617,
   "id": "b783fb13-8da2-420c-9dc9-f990bd580cb8",
   "metadata": {},
   "outputs": [],
   "source": [
    "#K-Nearest Neighbor Classifier"
   ]
  },
  {
   "cell_type": "code",
   "execution_count": 618,
   "id": "9598fd4b-dc88-4460-bff2-5c59744b8832",
   "metadata": {},
   "outputs": [
    {
     "data": {
      "text/html": [
       "<style>#sk-container-id-13 {color: black;}#sk-container-id-13 pre{padding: 0;}#sk-container-id-13 div.sk-toggleable {background-color: white;}#sk-container-id-13 label.sk-toggleable__label {cursor: pointer;display: block;width: 100%;margin-bottom: 0;padding: 0.3em;box-sizing: border-box;text-align: center;}#sk-container-id-13 label.sk-toggleable__label-arrow:before {content: \"▸\";float: left;margin-right: 0.25em;color: #696969;}#sk-container-id-13 label.sk-toggleable__label-arrow:hover:before {color: black;}#sk-container-id-13 div.sk-estimator:hover label.sk-toggleable__label-arrow:before {color: black;}#sk-container-id-13 div.sk-toggleable__content {max-height: 0;max-width: 0;overflow: hidden;text-align: left;background-color: #f0f8ff;}#sk-container-id-13 div.sk-toggleable__content pre {margin: 0.2em;color: black;border-radius: 0.25em;background-color: #f0f8ff;}#sk-container-id-13 input.sk-toggleable__control:checked~div.sk-toggleable__content {max-height: 200px;max-width: 100%;overflow: auto;}#sk-container-id-13 input.sk-toggleable__control:checked~label.sk-toggleable__label-arrow:before {content: \"▾\";}#sk-container-id-13 div.sk-estimator input.sk-toggleable__control:checked~label.sk-toggleable__label {background-color: #d4ebff;}#sk-container-id-13 div.sk-label input.sk-toggleable__control:checked~label.sk-toggleable__label {background-color: #d4ebff;}#sk-container-id-13 input.sk-hidden--visually {border: 0;clip: rect(1px 1px 1px 1px);clip: rect(1px, 1px, 1px, 1px);height: 1px;margin: -1px;overflow: hidden;padding: 0;position: absolute;width: 1px;}#sk-container-id-13 div.sk-estimator {font-family: monospace;background-color: #f0f8ff;border: 1px dotted black;border-radius: 0.25em;box-sizing: border-box;margin-bottom: 0.5em;}#sk-container-id-13 div.sk-estimator:hover {background-color: #d4ebff;}#sk-container-id-13 div.sk-parallel-item::after {content: \"\";width: 100%;border-bottom: 1px solid gray;flex-grow: 1;}#sk-container-id-13 div.sk-label:hover label.sk-toggleable__label {background-color: #d4ebff;}#sk-container-id-13 div.sk-serial::before {content: \"\";position: absolute;border-left: 1px solid gray;box-sizing: border-box;top: 0;bottom: 0;left: 50%;z-index: 0;}#sk-container-id-13 div.sk-serial {display: flex;flex-direction: column;align-items: center;background-color: white;padding-right: 0.2em;padding-left: 0.2em;position: relative;}#sk-container-id-13 div.sk-item {position: relative;z-index: 1;}#sk-container-id-13 div.sk-parallel {display: flex;align-items: stretch;justify-content: center;background-color: white;position: relative;}#sk-container-id-13 div.sk-item::before, #sk-container-id-13 div.sk-parallel-item::before {content: \"\";position: absolute;border-left: 1px solid gray;box-sizing: border-box;top: 0;bottom: 0;left: 50%;z-index: -1;}#sk-container-id-13 div.sk-parallel-item {display: flex;flex-direction: column;z-index: 1;position: relative;background-color: white;}#sk-container-id-13 div.sk-parallel-item:first-child::after {align-self: flex-end;width: 50%;}#sk-container-id-13 div.sk-parallel-item:last-child::after {align-self: flex-start;width: 50%;}#sk-container-id-13 div.sk-parallel-item:only-child::after {width: 0;}#sk-container-id-13 div.sk-dashed-wrapped {border: 1px dashed gray;margin: 0 0.4em 0.5em 0.4em;box-sizing: border-box;padding-bottom: 0.4em;background-color: white;}#sk-container-id-13 div.sk-label label {font-family: monospace;font-weight: bold;display: inline-block;line-height: 1.2em;}#sk-container-id-13 div.sk-label-container {text-align: center;}#sk-container-id-13 div.sk-container {/* jupyter's `normalize.less` sets `[hidden] { display: none; }` but bootstrap.min.css set `[hidden] { display: none !important; }` so we also need the `!important` here to be able to override the default hidden behavior on the sphinx rendered scikit-learn.org. See: https://github.com/scikit-learn/scikit-learn/issues/21755 */display: inline-block !important;position: relative;}#sk-container-id-13 div.sk-text-repr-fallback {display: none;}</style><div id=\"sk-container-id-13\" class=\"sk-top-container\"><div class=\"sk-text-repr-fallback\"><pre>KNeighborsClassifier(n_neighbors=3)</pre><b>In a Jupyter environment, please rerun this cell to show the HTML representation or trust the notebook. <br />On GitHub, the HTML representation is unable to render, please try loading this page with nbviewer.org.</b></div><div class=\"sk-container\" hidden><div class=\"sk-item\"><div class=\"sk-estimator sk-toggleable\"><input class=\"sk-toggleable__control sk-hidden--visually\" id=\"sk-estimator-id-13\" type=\"checkbox\" checked><label for=\"sk-estimator-id-13\" class=\"sk-toggleable__label sk-toggleable__label-arrow\">KNeighborsClassifier</label><div class=\"sk-toggleable__content\"><pre>KNeighborsClassifier(n_neighbors=3)</pre></div></div></div></div></div>"
      ],
      "text/plain": [
       "KNeighborsClassifier(n_neighbors=3)"
      ]
     },
     "execution_count": 618,
     "metadata": {},
     "output_type": "execute_result"
    }
   ],
   "source": [
    "from sklearn.neighbors import KNeighborsClassifier\n",
    "knn = KNeighborsClassifier(n_neighbors=3)\n",
    "knn.fit(X_train, y_train)\n"
   ]
  },
  {
   "cell_type": "code",
   "execution_count": 619,
   "id": "ce301ef8-5c33-40cd-ad7e-e67db792cd4a",
   "metadata": {},
   "outputs": [
    {
     "name": "stdout",
     "output_type": "stream",
     "text": [
      "Accuracy of knn on test data is : 0.62\n",
      "Accuracy of knn on train data is : 0.79\n"
     ]
    }
   ],
   "source": [
    "from sklearn.metrics import accuracy_score, recall_score, precision_score, f1_score\n",
    "accuracy_test=accuracy_score(y_test, knn.predict(X_test))\n",
    "print('Accuracy of knn on test data is : {:.2}'.format(accuracy_test))\n",
    "accuracy_train=accuracy_score(y_train, knn.predict(X_train))\n",
    "print('Accuracy of knn on train data is : {:.2}'.format(accuracy_train))"
   ]
  },
  {
   "cell_type": "code",
   "execution_count": 620,
   "id": "e9750c82-5eb3-4ee2-a38f-aff0eb6cb1ec",
   "metadata": {},
   "outputs": [
    {
     "data": {
      "text/plain": [
       "{'n_neighbors': 44}"
      ]
     },
     "execution_count": 620,
     "metadata": {},
     "output_type": "execute_result"
    }
   ],
   "source": [
    "import numpy as np\n",
    "knn_search_accuracy = KNeighborsClassifier()\n",
    "param_grid = {\"n_neighbors\": np.arange(1, 100)}\n",
    "\n",
    "from sklearn.model_selection import GridSearchCV\n",
    "knn_gscv = GridSearchCV(knn_search_accuracy, param_grid, cv=5)\n",
    "knn_gscv.fit(X_train, y_train)\n",
    "knn_gscv.best_params_\n"
   ]
  },
  {
   "cell_type": "code",
   "execution_count": 621,
   "id": "3b6fa8bc-1320-47be-acf5-9744e3bc5da0",
   "metadata": {},
   "outputs": [
    {
     "name": "stdout",
     "output_type": "stream",
     "text": [
      "Accuracy on the test data set for the model produced with the optimal k is: 0.672566371681416\n",
      "Accuracy of on train data for the model produced with the optimal k is: 0.67\n"
     ]
    }
   ],
   "source": [
    "best_knn = knn_gscv.best_estimator_\n",
    "accuracy_test=accuracy_score(y_test, best_knn.predict(X_test))\n",
    "print(f\"Accuracy on the test data set for the model produced with the optimal k is: {accuracy_test}\")\n",
    "\n",
    "accuracy_train=accuracy_score(y_train, best_knn.predict(X_train))\n",
    "print('Accuracy of on train data for the model produced with the optimal k is: {:.2}'.format(accuracy_train))"
   ]
  },
  {
   "cell_type": "code",
   "execution_count": 622,
   "id": "19e15d37-c3f4-4097-8cee-04202a31fea3",
   "metadata": {},
   "outputs": [],
   "source": [
    "#K-Nearest Neighbor Classifier using Grid search CV"
   ]
  },
  {
   "cell_type": "code",
   "execution_count": 623,
   "id": "ebe53987-ab44-49e2-9286-ca74150bd56c",
   "metadata": {},
   "outputs": [
    {
     "data": {
      "text/plain": [
       "{'n_neighbors': 1}"
      ]
     },
     "execution_count": 623,
     "metadata": {},
     "output_type": "execute_result"
    }
   ],
   "source": [
    "knn_search_recall = KNeighborsClassifier()\n",
    "knn_gscv2 = GridSearchCV(knn_search_recall, param_grid, cv=5, scoring=\"recall\")\n",
    "knn_gscv2.fit(X_train, y_train)\n",
    "knn_gscv2.best_params_"
   ]
  },
  {
   "cell_type": "code",
   "execution_count": 624,
   "id": "d534cdf3-2806-4491-be8c-c8747c8f3495",
   "metadata": {},
   "outputs": [],
   "source": [
    "best_recall = knn_gscv2.best_estimator_"
   ]
  },
  {
   "cell_type": "code",
   "execution_count": 625,
   "id": "48927d13-d0cd-4d36-952f-2e47d1c6cf3d",
   "metadata": {},
   "outputs": [
    {
     "name": "stdout",
     "output_type": "stream",
     "text": [
      "Recall of KNeighborsClassifier(n_neighbors=3) on test data is : 0.25\n",
      "Recall of KNeighborsClassifier(n_neighbors=3) on train data is : 0.5529411764705883\n",
      "Recall of KNeighborsClassifier(n_neighbors=44) on test data is : 0.0\n",
      "Recall of KNeighborsClassifier(n_neighbors=44) on train data is : 0.011764705882352941\n",
      "Recall of KNeighborsClassifier(n_neighbors=1) on test data is : 0.3333333333333333\n",
      "Recall of KNeighborsClassifier(n_neighbors=1) on train data is : 0.9882352941176471\n"
     ]
    }
   ],
   "source": [
    "models = [knn, best_knn, best_recall]\n",
    "for m in models:\n",
    "    # Recall\n",
    "    # on test data\n",
    "    recall_test=recall_score(y_test, m.predict(X_test))\n",
    "    print(f'Recall of {m} on test data is : {recall_test}')\n",
    "    # on training data\n",
    "    recall_train=recall_score(y_train, m.predict(X_train))\n",
    "    print(f'Recall of {m} on train data is : {recall_train}')"
   ]
  },
  {
   "cell_type": "code",
   "execution_count": 626,
   "id": "5117c32f-879a-42c6-a3fc-cd478ff9ebe6",
   "metadata": {},
   "outputs": [
    {
     "data": {
      "text/plain": [
       "array([False, False, False, False, False, False,  True, False,  True,\n",
       "       False])"
      ]
     },
     "execution_count": 626,
     "metadata": {},
     "output_type": "execute_result"
    }
   ],
   "source": [
    "knn.predict(X_test.iloc[0:10])"
   ]
  },
  {
   "cell_type": "code",
   "execution_count": 627,
   "id": "343e73e6-4a3f-4ef2-a89a-277b01d46f3c",
   "metadata": {},
   "outputs": [
    {
     "data": {
      "text/plain": [
       "array([[1.        , 0.        ],\n",
       "       [1.        , 0.        ],\n",
       "       [1.        , 0.        ],\n",
       "       [0.66666667, 0.33333333],\n",
       "       [1.        , 0.        ],\n",
       "       [1.        , 0.        ],\n",
       "       [0.33333333, 0.66666667],\n",
       "       [0.66666667, 0.33333333],\n",
       "       [0.33333333, 0.66666667],\n",
       "       [0.66666667, 0.33333333]])"
      ]
     },
     "execution_count": 627,
     "metadata": {},
     "output_type": "execute_result"
    }
   ],
   "source": [
    "knn.predict_proba(X_test.iloc[0:10])\n"
   ]
  },
  {
   "cell_type": "code",
   "execution_count": 628,
   "id": "7cc2e3ea-70bf-4af8-95e9-8488a84ad241",
   "metadata": {},
   "outputs": [],
   "source": [
    "def modified_predict(y_probs, threshold):\n",
    "    \"\"\"\n",
    "    Returns modified predictions for a collection of raw probabilities, `y_probs`\n",
    "    given a decision threshold, `threshold`.\n",
    "    \"\"\"\n",
    "    result = []\n",
    "    # iterate over the raw probabilities\n",
    "    for y in y_probs:\n",
    "        # compare each one to the threshold\n",
    "        if y >= threshold:\n",
    "            result.append(1)\n",
    "        else:\n",
    "            result.append(0)\n",
    "    return result"
   ]
  },
  {
   "cell_type": "code",
   "execution_count": 629,
   "id": "f912532c-14d8-4ca2-93a7-168e17b2eb67",
   "metadata": {},
   "outputs": [
    {
     "data": {
      "text/plain": [
       "[0, 0, 0, 1, 0, 0, 1, 1, 1, 1]"
      ]
     },
     "execution_count": 629,
     "metadata": {},
     "output_type": "execute_result"
    }
   ],
   "source": [
    "y_probs = knn.predict_proba(X_test)[0:10,1]\n",
    "modified_predict(y_probs, 0.3)"
   ]
  },
  {
   "cell_type": "code",
   "execution_count": 630,
   "id": "d04fdfeb-503d-4a54-82b0-4a91b45aa1bd",
   "metadata": {},
   "outputs": [],
   "source": [
    "from sklearn.metrics import confusion_matrix\n",
    "\n",
    "def confusion_matrix_for_threshold(X, y, model, threshold):\n",
    "    # first, get the raw scores\n",
    "    y_probs = model.predict_proba(X)[:,1]\n",
    "    # then, get the modified labels\n",
    "    y_modified_pred = modified_predict(y_probs, threshold)\n",
    "    # print a simple confusion matrix as a pandas dataframe so that\n",
    "    # we can label the rows and columns\n",
    "    print(pd.DataFrame(confusion_matrix(y, y_modified_pred),\n",
    "                    columns=['Predicted_False', 'Predicted_True'],\n",
    "                    index=['Actual_False', 'Actual_True']))"
   ]
  },
  {
   "cell_type": "code",
   "execution_count": 631,
   "id": "16e908da-4624-44e1-9fde-9b16bd050c62",
   "metadata": {},
   "outputs": [
    {
     "name": "stdout",
     "output_type": "stream",
     "text": [
      "              Predicted_False  Predicted_True\n",
      "Actual_False               61              16\n",
      "Actual_True                27               9\n"
     ]
    }
   ],
   "source": [
    "confusion_matrix_for_threshold(X_test, y_test, knn, 0.5)"
   ]
  },
  {
   "cell_type": "code",
   "execution_count": 632,
   "id": "5ca76329-03fc-48fe-9fc6-d1aec5b07819",
   "metadata": {},
   "outputs": [
    {
     "name": "stdout",
     "output_type": "stream",
     "text": [
      "              Predicted_False  Predicted_True\n",
      "Actual_False               27              50\n",
      "Actual_True                 6              30\n"
     ]
    }
   ],
   "source": [
    "confusion_matrix_for_threshold(X_test, y_test, knn, 0.3)"
   ]
  },
  {
   "cell_type": "code",
   "execution_count": 633,
   "id": "cfcbc2e9-ca53-4e9c-93c3-a4b1fe4f207d",
   "metadata": {},
   "outputs": [
    {
     "name": "stdout",
     "output_type": "stream",
     "text": [
      "Model: KNeighborsClassifier(n_neighbors=3)\n",
      "\n",
      "threshold: 0.8\n",
      "              Predicted_False  Predicted_True\n",
      "Actual_False               75               2\n",
      "Actual_True                35               1\n",
      "threshold: 0.5\n",
      "              Predicted_False  Predicted_True\n",
      "Actual_False               61              16\n",
      "Actual_True                27               9\n",
      "threshold: 0.3\n",
      "              Predicted_False  Predicted_True\n",
      "Actual_False               27              50\n",
      "Actual_True                 6              30\n",
      "Model: KNeighborsClassifier(n_neighbors=44)\n",
      "\n",
      "threshold: 0.8\n",
      "              Predicted_False  Predicted_True\n",
      "Actual_False               77               0\n",
      "Actual_True                36               0\n",
      "threshold: 0.5\n",
      "              Predicted_False  Predicted_True\n",
      "Actual_False               75               2\n",
      "Actual_True                36               0\n",
      "threshold: 0.3\n",
      "              Predicted_False  Predicted_True\n",
      "Actual_False               45              32\n",
      "Actual_True                13              23\n",
      "Model: KNeighborsClassifier(n_neighbors=1)\n",
      "\n",
      "threshold: 0.8\n",
      "              Predicted_False  Predicted_True\n",
      "Actual_False               52              25\n",
      "Actual_True                24              12\n",
      "threshold: 0.5\n",
      "              Predicted_False  Predicted_True\n",
      "Actual_False               52              25\n",
      "Actual_True                24              12\n",
      "threshold: 0.3\n",
      "              Predicted_False  Predicted_True\n",
      "Actual_False               52              25\n",
      "Actual_True                24              12\n"
     ]
    }
   ],
   "source": [
    "models = [knn, knn_gscv.best_estimator_, knn_gscv2.best_estimator_]\n",
    "thresholds = [0.8, 0.5, 0.3]\n",
    "for m in models:\n",
    "    print(f\"Model: {m}\\n\")\n",
    "    for t in thresholds:\n",
    "        print(f\"threshold: {t}\")\n",
    "        confusion_matrix_for_threshold(X_test, y_test, m, t)"
   ]
  },
  {
   "cell_type": "code",
   "execution_count": 634,
   "id": "e8ccfbc0-56d4-4134-98a6-b9e3c5c0201a",
   "metadata": {},
   "outputs": [
    {
     "data": {
      "image/png": "[encoded data removed]",
      "text/plain": [
       "<Figure size 800x800 with 1 Axes>"
      ]
     },
     "metadata": {},
     "output_type": "display_data"
    }
   ],
   "source": [
    "from sklearn.metrics import precision_recall_curve\n",
    "from matplotlib import pyplot as plt\n",
    "\n",
    "def plot_precision_recall_vs_threshold(precisions, recalls, thresholds):\n",
    "    plt.figure(figsize=(8, 8))\n",
    "    plt.title(\"Precision and Recall Scores as a function of the decision threshold\")\n",
    "    plt.plot(thresholds, precisions[:-1], \"b--\", label=\"Precision\")\n",
    "    plt.plot(thresholds, recalls[:-1], \"g-\", label=\"Recall\")\n",
    "    plt.ylabel(\"Score\")\n",
    "    plt.xlabel(\"Decision Threshold\")\n",
    "    plt.legend(loc='best')\n",
    "\n",
    "# generate the probabilities on the test set; here we could use any model\n",
    "y_probs = knn.predict_proba(X_test)[0:,1]\n",
    "\n",
    "# the precision_recall_curve function from sklearn returns three parameters\n",
    "precisions, recalls, thresholds = precision_recall_curve(y_test, y_probs)\n",
    "plot_precision_recall_vs_threshold(precisions, recalls, thresholds)"
   ]
  },
  {
   "cell_type": "code",
   "execution_count": 635,
   "id": "9fccdb92-82ff-432a-a665-aa32027a3f2c",
   "metadata": {},
   "outputs": [],
   "source": [
    "#Linear classification"
   ]
  },
  {
   "cell_type": "code",
   "execution_count": 636,
   "id": "afb94242-1ba5-456b-bffd-87257fd91e5b",
   "metadata": {},
   "outputs": [
    {
     "data": {
      "text/html": [
       "<style>#sk-container-id-14 {color: black;}#sk-container-id-14 pre{padding: 0;}#sk-container-id-14 div.sk-toggleable {background-color: white;}#sk-container-id-14 label.sk-toggleable__label {cursor: pointer;display: block;width: 100%;margin-bottom: 0;padding: 0.3em;box-sizing: border-box;text-align: center;}#sk-container-id-14 label.sk-toggleable__label-arrow:before {content: \"▸\";float: left;margin-right: 0.25em;color: #696969;}#sk-container-id-14 label.sk-toggleable__label-arrow:hover:before {color: black;}#sk-container-id-14 div.sk-estimator:hover label.sk-toggleable__label-arrow:before {color: black;}#sk-container-id-14 div.sk-toggleable__content {max-height: 0;max-width: 0;overflow: hidden;text-align: left;background-color: #f0f8ff;}#sk-container-id-14 div.sk-toggleable__content pre {margin: 0.2em;color: black;border-radius: 0.25em;background-color: #f0f8ff;}#sk-container-id-14 input.sk-toggleable__control:checked~div.sk-toggleable__content {max-height: 200px;max-width: 100%;overflow: auto;}#sk-container-id-14 input.sk-toggleable__control:checked~label.sk-toggleable__label-arrow:before {content: \"▾\";}#sk-container-id-14 div.sk-estimator input.sk-toggleable__control:checked~label.sk-toggleable__label {background-color: #d4ebff;}#sk-container-id-14 div.sk-label input.sk-toggleable__control:checked~label.sk-toggleable__label {background-color: #d4ebff;}#sk-container-id-14 input.sk-hidden--visually {border: 0;clip: rect(1px 1px 1px 1px);clip: rect(1px, 1px, 1px, 1px);height: 1px;margin: -1px;overflow: hidden;padding: 0;position: absolute;width: 1px;}#sk-container-id-14 div.sk-estimator {font-family: monospace;background-color: #f0f8ff;border: 1px dotted black;border-radius: 0.25em;box-sizing: border-box;margin-bottom: 0.5em;}#sk-container-id-14 div.sk-estimator:hover {background-color: #d4ebff;}#sk-container-id-14 div.sk-parallel-item::after {content: \"\";width: 100%;border-bottom: 1px solid gray;flex-grow: 1;}#sk-container-id-14 div.sk-label:hover label.sk-toggleable__label {background-color: #d4ebff;}#sk-container-id-14 div.sk-serial::before {content: \"\";position: absolute;border-left: 1px solid gray;box-sizing: border-box;top: 0;bottom: 0;left: 50%;z-index: 0;}#sk-container-id-14 div.sk-serial {display: flex;flex-direction: column;align-items: center;background-color: white;padding-right: 0.2em;padding-left: 0.2em;position: relative;}#sk-container-id-14 div.sk-item {position: relative;z-index: 1;}#sk-container-id-14 div.sk-parallel {display: flex;align-items: stretch;justify-content: center;background-color: white;position: relative;}#sk-container-id-14 div.sk-item::before, #sk-container-id-14 div.sk-parallel-item::before {content: \"\";position: absolute;border-left: 1px solid gray;box-sizing: border-box;top: 0;bottom: 0;left: 50%;z-index: -1;}#sk-container-id-14 div.sk-parallel-item {display: flex;flex-direction: column;z-index: 1;position: relative;background-color: white;}#sk-container-id-14 div.sk-parallel-item:first-child::after {align-self: flex-end;width: 50%;}#sk-container-id-14 div.sk-parallel-item:last-child::after {align-self: flex-start;width: 50%;}#sk-container-id-14 div.sk-parallel-item:only-child::after {width: 0;}#sk-container-id-14 div.sk-dashed-wrapped {border: 1px dashed gray;margin: 0 0.4em 0.5em 0.4em;box-sizing: border-box;padding-bottom: 0.4em;background-color: white;}#sk-container-id-14 div.sk-label label {font-family: monospace;font-weight: bold;display: inline-block;line-height: 1.2em;}#sk-container-id-14 div.sk-label-container {text-align: center;}#sk-container-id-14 div.sk-container {/* jupyter's `normalize.less` sets `[hidden] { display: none; }` but bootstrap.min.css set `[hidden] { display: none !important; }` so we also need the `!important` here to be able to override the default hidden behavior on the sphinx rendered scikit-learn.org. See: https://github.com/scikit-learn/scikit-learn/issues/21755 */display: inline-block !important;position: relative;}#sk-container-id-14 div.sk-text-repr-fallback {display: none;}</style><div id=\"sk-container-id-14\" class=\"sk-top-container\"><div class=\"sk-text-repr-fallback\"><pre>SGDClassifier(alpha=0.01, loss=&#x27;perceptron&#x27;)</pre><b>In a Jupyter environment, please rerun this cell to show the HTML representation or trust the notebook. <br />On GitHub, the HTML representation is unable to render, please try loading this page with nbviewer.org.</b></div><div class=\"sk-container\" hidden><div class=\"sk-item\"><div class=\"sk-estimator sk-toggleable\"><input class=\"sk-toggleable__control sk-hidden--visually\" id=\"sk-estimator-id-14\" type=\"checkbox\" checked><label for=\"sk-estimator-id-14\" class=\"sk-toggleable__label sk-toggleable__label-arrow\">SGDClassifier</label><div class=\"sk-toggleable__content\"><pre>SGDClassifier(alpha=0.01, loss=&#x27;perceptron&#x27;)</pre></div></div></div></div></div>"
      ],
      "text/plain": [
       "SGDClassifier(alpha=0.01, loss='perceptron')"
      ]
     },
     "execution_count": 636,
     "metadata": {},
     "output_type": "execute_result"
    }
   ],
   "source": [
    "from sklearn.linear_model import SGDClassifier\n",
    "clf = SGDClassifier(loss=\"perceptron\", alpha=0.01)\n",
    "clf.fit(X_train, y_train)"
   ]
  },
  {
   "cell_type": "code",
   "execution_count": 637,
   "id": "fa34dfbb-0594-4be8-96f2-70f444091d58",
   "metadata": {},
   "outputs": [],
   "source": [
    "from sklearn.metrics import accuracy_score\n",
    "accuracy_test=accuracy_score(y_test, clf.predict(X_test))\n",
    "accuracy_train=accuracy_score(y_train, clf.predict(X_train))"
   ]
  },
  {
   "cell_type": "code",
   "execution_count": 638,
   "id": "facfa1eb-18aa-4900-bbc4-dcd2d69dce01",
   "metadata": {},
   "outputs": [
    {
     "data": {
      "text/plain": [
       "0.5343511450381679"
      ]
     },
     "execution_count": 638,
     "metadata": {},
     "output_type": "execute_result"
    }
   ],
   "source": [
    "accuracy_train"
   ]
  },
  {
   "cell_type": "code",
   "execution_count": 639,
   "id": "831319bb-3910-4c1d-b216-02da8a5ec713",
   "metadata": {},
   "outputs": [
    {
     "data": {
      "text/plain": [
       "0.4778761061946903"
      ]
     },
     "execution_count": 639,
     "metadata": {},
     "output_type": "execute_result"
    }
   ],
   "source": [
    "accuracy_test"
   ]
  },
  {
   "cell_type": "code",
   "execution_count": 640,
   "id": "31d1a5ce-f49b-4ee3-a370-ac53253a9ebb",
   "metadata": {},
   "outputs": [],
   "source": [
    "X = df.drop('class_recurrence-events', axis=1)\n",
    "y = df['class_recurrence-events']"
   ]
  },
  {
   "cell_type": "code",
   "execution_count": 641,
   "id": "4224cba8-ba42-4601-8cae-eb6c523988b2",
   "metadata": {},
   "outputs": [
    {
     "name": "stdout",
     "output_type": "stream",
     "text": [
      "Train accuracy: 0.683206106870229; Test accuracy: 0.6902654867256637\n"
     ]
    }
   ],
   "source": [
    "X_train, X_test, y_train, y_test = train_test_split(X, y, test_size=0.3, stratify=y, random_state=1)\n",
    "clf = SGDClassifier(loss=\"perceptron\", alpha=0.01)\n",
    "clf.fit(X_train, y_train)\n",
    "\n",
    "accuracy_test=accuracy_score(y_test, clf.predict(X_test))\n",
    "accuracy_train=accuracy_score(y_train, clf.predict(X_train))\n",
    "print(f\"Train accuracy: {accuracy_train}; Test accuracy: {accuracy_test}\")"
   ]
  },
  {
   "cell_type": "code",
   "execution_count": 642,
   "id": "3aa2f8c0-f829-43cd-a95f-8bd143aac997",
   "metadata": {},
   "outputs": [
    {
     "data": {
      "image/png": "[encoded data removed]",
      "text/plain": [
       "<Figure size 640x480 with 2 Axes>"
      ]
     },
     "metadata": {},
     "output_type": "display_data"
    }
   ],
   "source": [
    "from sklearn.metrics import ConfusionMatrixDisplay\n",
    "cm_display = ConfusionMatrixDisplay.from_estimator(clf, X_test, y_test,\n",
    "                                               cmap=plt.cm.Blues,normalize=None)"
   ]
  },
  {
   "cell_type": "code",
   "execution_count": 643,
   "id": "f0b98c29-2a35-4330-9a16-ef4ec6c56dd1",
   "metadata": {},
   "outputs": [],
   "source": [
    "#Print report showing accuracy, recall, precision and f1-score for each classification model. Which metric is most important for this problem? (You will explain your answer in the report in Part 3). ( 2 points)\n",
    "#most important: recall"
   ]
  },
  {
   "cell_type": "code",
   "execution_count": 644,
   "id": "7a21c9f2-b2b3-4921-96fb-9fd22cd427e8",
   "metadata": {},
   "outputs": [
    {
     "name": "stdout",
     "output_type": "stream",
     "text": [
      "----- KNN -----\n",
      "              precision    recall  f1-score   support\n",
      "\n",
      "       False       0.69      0.79      0.74        77\n",
      "        True       0.36      0.25      0.30        36\n",
      "\n",
      "    accuracy                           0.62       113\n",
      "   macro avg       0.53      0.52      0.52       113\n",
      "weighted avg       0.59      0.62      0.60       113\n",
      "\n",
      "----- KNN Grid Search -----\n",
      "              precision    recall  f1-score   support\n",
      "\n",
      "       False       0.68      0.99      0.80        77\n",
      "        True       0.00      0.00      0.00        36\n",
      "\n",
      "    accuracy                           0.67       113\n",
      "   macro avg       0.34      0.49      0.40       113\n",
      "weighted avg       0.46      0.67      0.55       113\n",
      "\n",
      "----- Linear Classification -----\n",
      "              precision    recall  f1-score   support\n",
      "\n",
      "       False       0.69      1.00      0.81        77\n",
      "        True       1.00      0.03      0.05        36\n",
      "\n",
      "    accuracy                           0.69       113\n",
      "   macro avg       0.84      0.51      0.43       113\n",
      "weighted avg       0.79      0.69      0.57       113\n",
      "\n"
     ]
    }
   ],
   "source": [
    "from sklearn.metrics import classification_report\n",
    "\n",
    "# Suppose these are your three trained models:\n",
    "models = {\n",
    "    \"KNN\": knn, \n",
    "    \"KNN Grid Search\": best_knn,\n",
    "    \"Linear Classification\": clf\n",
    "}\n",
    "\n",
    "for model_name, model in models.items():\n",
    "    print(f\"----- {model_name} -----\")\n",
    "    y_pred = model.predict(X_test)\n",
    "    report = classification_report(y_test, y_pred)\n",
    "    print(report)"
   ]
  }
 ],
 "metadata": {
  "kernelspec": {
   "display_name": "Python 3 (ipykernel)",
   "language": "python",
   "name": "python3"
  },
  "language_info": {
   "codemirror_mode": {
    "name": "ipython",
    "version": 3
   },
   "file_extension": ".py",
   "mimetype": "text/x-python",
   "name": "python",
   "nbconvert_exporter": "python",
   "pygments_lexer": "ipython3",
   "version": "3.11.1"
  }
 },
 "nbformat": 4,
 "nbformat_minor": 5
}
